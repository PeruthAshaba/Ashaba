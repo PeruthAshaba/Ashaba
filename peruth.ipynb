{
  "nbformat": 4,
  "nbformat_minor": 0,
  "metadata": {
    "colab": {
      "name": "peruth.ipynb",
      "provenance": [],
      "authorship_tag": "ABX9TyNpos30ofzjVrdvJftGTD+I",
      "include_colab_link": true
    },
    "kernelspec": {
      "name": "python3",
      "display_name": "Python 3"
    },
    "language_info": {
      "name": "python"
    }
  },
  "cells": [
    {
      "cell_type": "markdown",
      "metadata": {
        "id": "view-in-github",
        "colab_type": "text"
      },
      "source": [
        "<a href=\"https://colab.research.google.com/github/PeruthAshaba/Ashaba/blob/main/peruth.ipynb\" target=\"_parent\"><img src=\"https://colab.research.google.com/assets/colab-badge.svg\" alt=\"Open In Colab\"/></a>"
      ]
    },
    {
      "cell_type": "code",
      "execution_count": 215,
      "metadata": {
        "id": "ywGE5iLukGmM"
      },
      "outputs": [],
      "source": [
        "import numpy as np\n",
        "x = 3"
      ]
    },
    {
      "cell_type": "code",
      "source": [
        "#create a rank 1 array"
      ],
      "metadata": {
        "id": "54YgmO2Xomi6"
      },
      "execution_count": 216,
      "outputs": []
    },
    {
      "cell_type": "markdown",
      "source": [
        "A numpy array is a grid of values, of the same and is indexed by a couple of non\n",
        "The number of dimensions in the rank of an   the shape of integers is a tupple of integers giving the size of the array along each dimension.we can initialise numpy arrays from nested python lists and access elements using square brackets.\n",
        "Numpy also provides many fnctions to create arrays"
      ],
      "metadata": {
        "id": "15m1avrtwbZp"
      }
    },
    {
      "cell_type": "markdown",
      "source": [
        "create a rank 1 array"
      ],
      "metadata": {
        "id": "22KwapGep1Gl"
      }
    },
    {
      "cell_type": "markdown",
      "source": [
        "create a rank 1 array"
      ],
      "metadata": {
        "id": "LJtn-AMqqeWc"
      }
    },
    {
      "cell_type": "code",
      "source": [
        "a = np.array([1, 2, 3, 4])\n",
        "a\n",
        "type(a)\n",
        "a.shape\n",
        "a[0] = 5\n",
        "print"
      ],
      "metadata": {
        "colab": {
          "base_uri": "https://localhost:8080/"
        },
        "id": "i6xlqSCGqTtC",
        "outputId": "f2a719c8-6cbf-44e6-c579-01930a1bf35d"
      },
      "execution_count": 217,
      "outputs": [
        {
          "output_type": "execute_result",
          "data": {
            "text/plain": [
              "array([[ 6,  8],\n",
              "       [10, 12]])"
            ]
          },
          "metadata": {},
          "execution_count": 217
        }
      ]
    },
    {
      "cell_type": "markdown",
      "source": [
        ""
      ],
      "metadata": {
        "id": "TTnXaVuzywCp"
      }
    },
    {
      "cell_type": "code",
      "source": [
        "b = np.array([[1,2,3],[4, 5, 6]])\n",
        "b.shape"
      ],
      "metadata": {
        "colab": {
          "base_uri": "https://localhost:8080/"
        },
        "id": "XQ3XNNykuzC1",
        "outputId": "911c5493-9f00-475f-ad87-1f25c9ee8bcc"
      },
      "execution_count": 218,
      "outputs": [
        {
          "output_type": "execute_result",
          "data": {
            "text/plain": [
              "(2, 3)"
            ]
          },
          "metadata": {},
          "execution_count": 218
        }
      ]
    },
    {
      "cell_type": "code",
      "source": [
        "c = np.zeros((2,2))\n",
        "c\n",
        "d = np.ones((3,3))\n",
        "d"
      ],
      "metadata": {
        "colab": {
          "base_uri": "https://localhost:8080/"
        },
        "id": "Jc6RKWpXzLu6",
        "outputId": "13afcb2a-9c34-4d8c-f053-fb083032e15c"
      },
      "execution_count": 219,
      "outputs": [
        {
          "output_type": "execute_result",
          "data": {
            "text/plain": [
              "array([[1., 1., 1.],\n",
              "       [1., 1., 1.],\n",
              "       [1., 1., 1.]])"
            ]
          },
          "metadata": {},
          "execution_count": 219
        }
      ]
    },
    {
      "cell_type": "code",
      "source": [
        "r = np.full((2,2),7)\n",
        "r"
      ],
      "metadata": {
        "colab": {
          "base_uri": "https://localhost:8080/"
        },
        "id": "P9o4s8Kfz9iU",
        "outputId": "40454d37-3cca-4634-c6fb-2e574ef67f9b"
      },
      "execution_count": 220,
      "outputs": [
        {
          "output_type": "execute_result",
          "data": {
            "text/plain": [
              "array([[7, 7],\n",
              "       [7, 7]])"
            ]
          },
          "metadata": {},
          "execution_count": 220
        }
      ]
    },
    {
      "cell_type": "code",
      "source": [
        "t = np.eye(2)            #create a 2 by 2 identity matrix\n",
        "t"
      ],
      "metadata": {
        "colab": {
          "base_uri": "https://localhost:8080/"
        },
        "id": "NdFQ7Ty-0VVQ",
        "outputId": "a057d649-b7fa-42d1-8763-5a5ea2f114c2"
      },
      "execution_count": 221,
      "outputs": [
        {
          "output_type": "execute_result",
          "data": {
            "text/plain": [
              "array([[1., 0.],\n",
              "       [0., 1.]])"
            ]
          },
          "metadata": {},
          "execution_count": 221
        }
      ]
    },
    {
      "cell_type": "code",
      "source": [
        "z = np.random.random((2,2))    #Its filled with random that r generated by python, Create an array filled with random variables\n",
        "z                               # print(z)"
      ],
      "metadata": {
        "colab": {
          "base_uri": "https://localhost:8080/"
        },
        "id": "GAUWVzyV2Wx3",
        "outputId": "28943e8e-b877-4103-f71c-eed3798eb886"
      },
      "execution_count": 222,
      "outputs": [
        {
          "output_type": "execute_result",
          "data": {
            "text/plain": [
              "array([[0.05106968, 0.44856426],\n",
              "       [0.75081335, 0.58383596]])"
            ]
          },
          "metadata": {},
          "execution_count": 222
        }
      ]
    },
    {
      "cell_type": "markdown",
      "source": [
        "multiplication in jupyter is not done by * but by a dot ."
      ],
      "metadata": {
        "id": "CQOiODFg8lrK"
      }
    },
    {
      "cell_type": "markdown",
      "source": [
        "Array Maths\n",
        "Basic maths functions operate elementwise and r available both as aletter overs nd as functions in numpy"
      ],
      "metadata": {
        "id": "7wxCvcVz5M46"
      }
    },
    {
      "cell_type": "code",
      "source": [
        "h = np.array([[1,2],[3,4]])\n",
        "j = np.array([[5,6],[7, 8]])\n",
        "np.add(h, j)"
      ],
      "metadata": {
        "colab": {
          "base_uri": "https://localhost:8080/"
        },
        "id": "Zc9PStHN7U5J",
        "outputId": "c64a417f-51f3-4b08-c8aa-afaefeeb2e5e"
      },
      "execution_count": 223,
      "outputs": [
        {
          "output_type": "execute_result",
          "data": {
            "text/plain": [
              "array([[ 6,  8],\n",
              "       [10, 12]])"
            ]
          },
          "metadata": {},
          "execution_count": 223
        }
      ]
    },
    {
      "cell_type": "code",
      "source": [
        "x = np.array([[1,2], [3,4]])\n",
        "z = np.array([1,2,3])\n",
        "x.T"
      ],
      "metadata": {
        "colab": {
          "base_uri": "https://localhost:8080/"
        },
        "id": "Q8DveZGl_N2T",
        "outputId": "70f5b91e-9508-4bb1-b2c7-bcc1e439cfb0"
      },
      "execution_count": 224,
      "outputs": [
        {
          "output_type": "execute_result",
          "data": {
            "text/plain": [
              "array([[1, 3],\n",
              "       [2, 4]])"
            ]
          },
          "metadata": {},
          "execution_count": 224
        }
      ]
    }
  ]
}